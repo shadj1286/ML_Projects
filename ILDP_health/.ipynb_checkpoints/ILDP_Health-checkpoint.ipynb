{
 "cells": [
  {
   "cell_type": "code",
   "execution_count": 1,
   "id": "478bfbfc",
   "metadata": {},
   "outputs": [],
   "source": [
    "import pandas as pd\n",
    "import numpy as np\n",
    "import matplotlib.pyplot as plt\n",
    "from imblearn.over_sampling import RandomOverSampler\n",
    "from sklearn.preprocessing import StandardScaler"
   ]
  },
  {
   "cell_type": "code",
   "execution_count": 2,
   "id": "1e3986c2",
   "metadata": {},
   "outputs": [
    {
     "name": "stdout",
     "output_type": "stream",
     "text": [
      "<class 'pandas.core.frame.DataFrame'>\n",
      "RangeIndex: 583 entries, 0 to 582\n",
      "Data columns (total 11 columns):\n",
      " #   Column    Non-Null Count  Dtype  \n",
      "---  ------    --------------  -----  \n",
      " 0   age       583 non-null    int64  \n",
      " 1   sex       583 non-null    object \n",
      " 2   tb        583 non-null    float64\n",
      " 3   db        583 non-null    float64\n",
      " 4   alkphos   583 non-null    int64  \n",
      " 5   sgpt      583 non-null    int64  \n",
      " 6   sgot      583 non-null    int64  \n",
      " 7   tp        583 non-null    float64\n",
      " 8   alb       583 non-null    float64\n",
      " 9   a/gratio  579 non-null    float64\n",
      " 10  selector  583 non-null    int64  \n",
      "dtypes: float64(5), int64(5), object(1)\n",
      "memory usage: 50.2+ KB\n",
      "Male      441\n",
      "Female    142\n",
      "Name: sex, dtype: int64\n"
     ]
    }
   ],
   "source": [
    "col=(\"age sex tb db alkphos sgpt sgot tp alb a/gratio selector\").split()\n",
    "df= pd.read_csv(\"ILDP.csv\",names=col)\n",
    "df.info()\n",
    "print(df[\"sex\"].value_counts())\n",
    "df[\"sex\"]=(df[\"sex\"]!=\"Male\").astype(int)\n",
    "df[\"sex\"].value_counts()\n",
    "df=df.dropna()"
   ]
  },
  {
   "cell_type": "code",
   "execution_count": 3,
   "id": "db33cba2",
   "metadata": {},
   "outputs": [
    {
     "data": {
      "text/html": [
       "<div>\n",
       "<style scoped>\n",
       "    .dataframe tbody tr th:only-of-type {\n",
       "        vertical-align: middle;\n",
       "    }\n",
       "\n",
       "    .dataframe tbody tr th {\n",
       "        vertical-align: top;\n",
       "    }\n",
       "\n",
       "    .dataframe thead th {\n",
       "        text-align: right;\n",
       "    }\n",
       "</style>\n",
       "<table border=\"1\" class=\"dataframe\">\n",
       "  <thead>\n",
       "    <tr style=\"text-align: right;\">\n",
       "      <th></th>\n",
       "      <th>age</th>\n",
       "      <th>sex</th>\n",
       "      <th>tb</th>\n",
       "      <th>db</th>\n",
       "      <th>alkphos</th>\n",
       "      <th>sgpt</th>\n",
       "      <th>sgot</th>\n",
       "      <th>tp</th>\n",
       "      <th>alb</th>\n",
       "      <th>a/gratio</th>\n",
       "      <th>selector</th>\n",
       "    </tr>\n",
       "  </thead>\n",
       "  <tbody>\n",
       "    <tr>\n",
       "      <th>0</th>\n",
       "      <td>65</td>\n",
       "      <td>1</td>\n",
       "      <td>0.7</td>\n",
       "      <td>0.1</td>\n",
       "      <td>187</td>\n",
       "      <td>16</td>\n",
       "      <td>18</td>\n",
       "      <td>6.8</td>\n",
       "      <td>3.3</td>\n",
       "      <td>0.90</td>\n",
       "      <td>1</td>\n",
       "    </tr>\n",
       "    <tr>\n",
       "      <th>1</th>\n",
       "      <td>62</td>\n",
       "      <td>0</td>\n",
       "      <td>10.9</td>\n",
       "      <td>5.5</td>\n",
       "      <td>699</td>\n",
       "      <td>64</td>\n",
       "      <td>100</td>\n",
       "      <td>7.5</td>\n",
       "      <td>3.2</td>\n",
       "      <td>0.74</td>\n",
       "      <td>1</td>\n",
       "    </tr>\n",
       "    <tr>\n",
       "      <th>2</th>\n",
       "      <td>62</td>\n",
       "      <td>0</td>\n",
       "      <td>7.3</td>\n",
       "      <td>4.1</td>\n",
       "      <td>490</td>\n",
       "      <td>60</td>\n",
       "      <td>68</td>\n",
       "      <td>7.0</td>\n",
       "      <td>3.3</td>\n",
       "      <td>0.89</td>\n",
       "      <td>1</td>\n",
       "    </tr>\n",
       "    <tr>\n",
       "      <th>3</th>\n",
       "      <td>58</td>\n",
       "      <td>0</td>\n",
       "      <td>1.0</td>\n",
       "      <td>0.4</td>\n",
       "      <td>182</td>\n",
       "      <td>14</td>\n",
       "      <td>20</td>\n",
       "      <td>6.8</td>\n",
       "      <td>3.4</td>\n",
       "      <td>1.00</td>\n",
       "      <td>1</td>\n",
       "    </tr>\n",
       "    <tr>\n",
       "      <th>4</th>\n",
       "      <td>72</td>\n",
       "      <td>0</td>\n",
       "      <td>3.9</td>\n",
       "      <td>2.0</td>\n",
       "      <td>195</td>\n",
       "      <td>27</td>\n",
       "      <td>59</td>\n",
       "      <td>7.3</td>\n",
       "      <td>2.4</td>\n",
       "      <td>0.40</td>\n",
       "      <td>1</td>\n",
       "    </tr>\n",
       "  </tbody>\n",
       "</table>\n",
       "</div>"
      ],
      "text/plain": [
       "   age  sex    tb   db  alkphos  sgpt  sgot   tp  alb  a/gratio  selector\n",
       "0   65    1   0.7  0.1      187    16    18  6.8  3.3      0.90         1\n",
       "1   62    0  10.9  5.5      699    64   100  7.5  3.2      0.74         1\n",
       "2   62    0   7.3  4.1      490    60    68  7.0  3.3      0.89         1\n",
       "3   58    0   1.0  0.4      182    14    20  6.8  3.4      1.00         1\n",
       "4   72    0   3.9  2.0      195    27    59  7.3  2.4      0.40         1"
      ]
     },
     "execution_count": 3,
     "metadata": {},
     "output_type": "execute_result"
    }
   ],
   "source": [
    "df.head()"
   ]
  },
  {
   "cell_type": "code",
   "execution_count": 4,
   "id": "ea6c7d20",
   "metadata": {},
   "outputs": [],
   "source": [
    "df[\"selector\"]=(df[\"selector\"]==1).astype(int)"
   ]
  },
  {
   "cell_type": "code",
   "execution_count": 5,
   "id": "ff5b644d",
   "metadata": {},
   "outputs": [
    {
     "name": "stdout",
     "output_type": "stream",
     "text": [
      "<class 'pandas.core.frame.DataFrame'>\n",
      "Int64Index: 492 entries, 20 to 64\n",
      "Data columns (total 11 columns):\n",
      " #   Column    Non-Null Count  Dtype  \n",
      "---  ------    --------------  -----  \n",
      " 0   age       492 non-null    int64  \n",
      " 1   sex       492 non-null    int32  \n",
      " 2   tb        492 non-null    float64\n",
      " 3   db        492 non-null    float64\n",
      " 4   alkphos   492 non-null    int64  \n",
      " 5   sgpt      492 non-null    int64  \n",
      " 6   sgot      492 non-null    int64  \n",
      " 7   tp        492 non-null    float64\n",
      " 8   alb       492 non-null    float64\n",
      " 9   a/gratio  492 non-null    float64\n",
      " 10  selector  492 non-null    int32  \n",
      "dtypes: float64(5), int32(2), int64(4)\n",
      "memory usage: 42.3 KB\n"
     ]
    }
   ],
   "source": [
    "train,test = np.split(df.sample(frac=1), [int(0.85*len(df))])\n",
    "train.info()"
   ]
  },
  {
   "cell_type": "markdown",
   "id": "302eeffa",
   "metadata": {},
   "source": [
    "<h2> KNN </h2>"
   ]
  },
  {
   "cell_type": "code",
   "execution_count": 6,
   "id": "e605917b",
   "metadata": {},
   "outputs": [],
   "source": [
    "def scale_dataset(dataframe, oversample=False):\n",
    "  X = dataframe[dataframe.columns[:-1]].values\n",
    "  y = dataframe[dataframe.columns[-1]].values\n",
    "\n",
    "  scaler = StandardScaler()\n",
    "  X = scaler.fit_transform(X)\n",
    "\n",
    "  if oversample:\n",
    "    ros = RandomOverSampler()\n",
    "    X, y = ros.fit_resample(X, y)\n",
    "\n",
    "  data = np.hstack((X, np.reshape(y, (-1, 1))))\n",
    "\n",
    "  return data, X, y"
   ]
  },
  {
   "cell_type": "code",
   "execution_count": 7,
   "id": "b1978c8d",
   "metadata": {},
   "outputs": [],
   "source": [
    "train , x_train , y_train = scale_dataset(train,oversample=True)\n",
    "test , x_test , y_test = scale_dataset(test,oversample=True)"
   ]
  },
  {
   "cell_type": "code",
   "execution_count": 8,
   "id": "3f3d4a48",
   "metadata": {},
   "outputs": [],
   "source": [
    "from sklearn.neighbors import KNeighborsClassifier\n",
    "from sklearn.metrics import classification_report"
   ]
  },
  {
   "cell_type": "code",
   "execution_count": 9,
   "id": "153ac9eb",
   "metadata": {},
   "outputs": [],
   "source": [
    "knn_model = KNeighborsClassifier(n_neighbors = 13)\n",
    "\n",
    "knn_model = knn_model.fit(x_train,y_train)\n",
    "\n",
    "KNeighborsClassifier()\n",
    "\n",
    "y_pred = knn_model.predict(x_test)"
   ]
  },
  {
   "cell_type": "code",
   "execution_count": 10,
   "id": "15115f2a",
   "metadata": {},
   "outputs": [
    {
     "name": "stdout",
     "output_type": "stream",
     "text": [
      "              precision    recall  f1-score   support\n",
      "\n",
      "           0       0.57      0.67      0.61        64\n",
      "           1       0.60      0.48      0.53        64\n",
      "\n",
      "    accuracy                           0.58       128\n",
      "   macro avg       0.58      0.58      0.57       128\n",
      "weighted avg       0.58      0.58      0.57       128\n",
      "\n"
     ]
    }
   ],
   "source": [
    "print(classification_report(y_test,y_pred))"
   ]
  },
  {
   "cell_type": "markdown",
   "id": "22886dd6",
   "metadata": {},
   "source": [
    "<h2>Naive Bayes</h2>"
   ]
  },
  {
   "cell_type": "code",
   "execution_count": 11,
   "id": "4462769f",
   "metadata": {},
   "outputs": [],
   "source": [
    "from sklearn.naive_bayes import GaussianNB"
   ]
  },
  {
   "cell_type": "code",
   "execution_count": 12,
   "id": "8b86da42",
   "metadata": {},
   "outputs": [],
   "source": [
    "nb_model = GaussianNB()\n",
    "nb_model = nb_model.fit(x_train,y_train)"
   ]
  },
  {
   "cell_type": "code",
   "execution_count": 13,
   "id": "a58260c0",
   "metadata": {},
   "outputs": [],
   "source": [
    "y_pred = nb_model.predict(x_test)"
   ]
  },
  {
   "cell_type": "code",
   "execution_count": 14,
   "id": "b519d7a3",
   "metadata": {},
   "outputs": [
    {
     "name": "stdout",
     "output_type": "stream",
     "text": [
      "              precision    recall  f1-score   support\n",
      "\n",
      "           0       0.62      1.00      0.77        64\n",
      "           1       1.00      0.39      0.56        64\n",
      "\n",
      "    accuracy                           0.70       128\n",
      "   macro avg       0.81      0.70      0.66       128\n",
      "weighted avg       0.81      0.70      0.66       128\n",
      "\n"
     ]
    }
   ],
   "source": [
    "print(classification_report(y_test,y_pred))"
   ]
  },
  {
   "cell_type": "markdown",
   "id": "4f76599b",
   "metadata": {},
   "source": [
    "<h2>Logistic Regression</h2>"
   ]
  },
  {
   "cell_type": "code",
   "execution_count": 15,
   "id": "30d77aaa",
   "metadata": {},
   "outputs": [],
   "source": [
    "from sklearn.linear_model import LogisticRegression"
   ]
  },
  {
   "cell_type": "code",
   "execution_count": 16,
   "id": "a3fff083",
   "metadata": {},
   "outputs": [],
   "source": [
    "lg_model = LogisticRegression()\n",
    "lg_model = lg_model.fit(x_train,y_train)"
   ]
  },
  {
   "cell_type": "code",
   "execution_count": 17,
   "id": "2e4e1ebc",
   "metadata": {},
   "outputs": [],
   "source": [
    "y_pred = lg_model.predict(x_test)"
   ]
  },
  {
   "cell_type": "code",
   "execution_count": 18,
   "id": "a3198e16",
   "metadata": {},
   "outputs": [
    {
     "name": "stdout",
     "output_type": "stream",
     "text": [
      "              precision    recall  f1-score   support\n",
      "\n",
      "           0       0.64      0.92      0.76        64\n",
      "           1       0.86      0.48      0.62        64\n",
      "\n",
      "    accuracy                           0.70       128\n",
      "   macro avg       0.75      0.70      0.69       128\n",
      "weighted avg       0.75      0.70      0.69       128\n",
      "\n"
     ]
    }
   ],
   "source": [
    "print(classification_report(y_test,y_pred))"
   ]
  },
  {
   "cell_type": "markdown",
   "id": "e13539c5",
   "metadata": {},
   "source": [
    "<h2>SVM</h2>"
   ]
  },
  {
   "cell_type": "code",
   "execution_count": 19,
   "id": "36e744e2",
   "metadata": {},
   "outputs": [],
   "source": [
    "from sklearn.svm import SVC"
   ]
  },
  {
   "cell_type": "code",
   "execution_count": 20,
   "id": "a55484cf",
   "metadata": {},
   "outputs": [],
   "source": [
    "svm_model = SVC()\n",
    "svm_model = svm_model.fit(x_train,y_train)"
   ]
  },
  {
   "cell_type": "code",
   "execution_count": 21,
   "id": "5fb43cd4",
   "metadata": {},
   "outputs": [],
   "source": [
    "y_pred = svm_model.predict(x_test)"
   ]
  },
  {
   "cell_type": "code",
   "execution_count": 22,
   "id": "bf2f9ad2",
   "metadata": {},
   "outputs": [
    {
     "name": "stdout",
     "output_type": "stream",
     "text": [
      "              precision    recall  f1-score   support\n",
      "\n",
      "           0       0.92      0.66      0.77        90\n",
      "           1       0.52      0.87      0.65        38\n",
      "\n",
      "    accuracy                           0.72       128\n",
      "   macro avg       0.72      0.76      0.71       128\n",
      "weighted avg       0.80      0.72      0.73       128\n",
      "\n"
     ]
    }
   ],
   "source": [
    "print(classification_report(y_pred,y_test))"
   ]
  },
  {
   "cell_type": "markdown",
   "id": "15ebd64a",
   "metadata": {},
   "source": [
    "## Neural Networks"
   ]
  },
  {
   "cell_type": "code",
   "execution_count": 24,
   "id": "248b6d9b",
   "metadata": {},
   "outputs": [
    {
     "name": "stdout",
     "output_type": "stream",
     "text": [
      "WARNING:tensorflow:From C:\\Users\\shadj\\Python\\Python310\\lib\\site-packages\\keras\\src\\losses.py:2976: The name tf.losses.sparse_softmax_cross_entropy is deprecated. Please use tf.compat.v1.losses.sparse_softmax_cross_entropy instead.\n",
      "\n"
     ]
    }
   ],
   "source": [
    "import tensorflow as tf"
   ]
  },
  {
   "cell_type": "code",
   "execution_count": 46,
   "id": "926c3980",
   "metadata": {},
   "outputs": [],
   "source": [
    "nn_model = tf.keras.Sequential([\n",
    "    tf.keras.layers.Dense(64,activation=\"relu\",input_shape=(10,)),\n",
    "    tf.keras.layers.Dropout(0.125),\n",
    "    tf.keras.layers.Dense(64,activation=\"relu\"),\n",
    "    tf.keras.layers.Dropout(0.125),\n",
    "    tf.keras.layers.Dense(1,activation=\"sigmoid\")\n",
    "])\n",
    "\n",
    "nn_model.compile(optimizer=tf.keras.optimizers.Adam(0.001),loss=\"binary_crossentropy\",\n",
    "                metrics=[\"accuracy\"])\n",
    "history = nn_model.fit(\n",
    "x_train,y_train,epochs=150,batch_size=64,validation_split=0.2,verbose=0)"
   ]
  },
  {
   "cell_type": "code",
   "execution_count": 47,
   "id": "893a2121",
   "metadata": {},
   "outputs": [
    {
     "name": "stdout",
     "output_type": "stream",
     "text": [
      "4/4 [==============================] - 0s 4ms/step\n"
     ]
    }
   ],
   "source": [
    "y_predict = nn_model.predict(x_test)\n",
    "y_predict =(y_predict>0.5).astype(int)"
   ]
  },
  {
   "cell_type": "code",
   "execution_count": 48,
   "id": "9370461b",
   "metadata": {},
   "outputs": [
    {
     "name": "stdout",
     "output_type": "stream",
     "text": [
      "              precision    recall  f1-score   support\n",
      "\n",
      "           0       0.65      0.73      0.69        64\n",
      "           1       0.70      0.61      0.65        64\n",
      "\n",
      "    accuracy                           0.67       128\n",
      "   macro avg       0.67      0.67      0.67       128\n",
      "weighted avg       0.67      0.67      0.67       128\n",
      "\n"
     ]
    }
   ],
   "source": [
    "print(classification_report(y_test,y_predict))"
   ]
  },
  {
   "cell_type": "code",
   "execution_count": null,
   "id": "c86143fb",
   "metadata": {},
   "outputs": [],
   "source": []
  }
 ],
 "metadata": {
  "kernelspec": {
   "display_name": "Python 3 (ipykernel)",
   "language": "python",
   "name": "python3"
  },
  "language_info": {
   "codemirror_mode": {
    "name": "ipython",
    "version": 3
   },
   "file_extension": ".py",
   "mimetype": "text/x-python",
   "name": "python",
   "nbconvert_exporter": "python",
   "pygments_lexer": "ipython3",
   "version": "3.10.6"
  }
 },
 "nbformat": 4,
 "nbformat_minor": 5
}
